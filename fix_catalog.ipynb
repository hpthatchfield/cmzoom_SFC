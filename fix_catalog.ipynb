{
 "cells": [
  {
   "cell_type": "code",
   "execution_count": 29,
   "id": "bc497760",
   "metadata": {},
   "outputs": [
    {
     "name": "stdout",
     "output_type": "stream",
     "text": [
      "1.24.3\n"
     ]
    }
   ],
   "source": [
    "from astropy.io import fits\n",
    "import numpy as np\n",
    "import matplotlib.pyplot as plt\n",
    "from astropy import units as u\n",
    "import os\n",
    "from astropy import wcs\n",
    "from astropy.table import Table, hstack, Column\n",
    "from astropy.utils.console import ProgressBar\n",
    "print(np.__version__)\n",
    "%config Completer.use_jedi = False\n",
    "# from IPython.core.display import display, HTML\n",
    "# display(HTML(\"<style>.container {width:95% !important}</style>\"))\n",
    "\n",
    "%matplotlib inline"
   ]
  },
  {
   "cell_type": "code",
   "execution_count": 30,
   "id": "bccb0c7c",
   "metadata": {},
   "outputs": [],
   "source": [
    "path = '/Users/hph/Dropbox/astrophys/CMZoom/cmzoom_catalog/catalog_acc/'\n",
    "teamcat = Table.read(path+'megacatalog_team_acc_final_say.fits')\n",
    "path_rgb = '/Users/hph/Dropbox/astrophys/CMZoom/cmzoom_RGB/tables/'\n",
    "catalog_orig = Table.read(path_rgb+'catalog_acc.fits')\n"
   ]
  },
  {
   "cell_type": "code",
   "execution_count": 31,
   "id": "386cb4bb",
   "metadata": {},
   "outputs": [
    {
     "name": "stdout",
     "output_type": "stream",
     "text": [
      "G359.484-0.132d\n",
      "G359.484-0.132e\n",
      "G359.484-0.132b\n",
      "G359.484-0.132a\n",
      "G359.484-0.132c\n",
      "And now for the old catalog\n",
      "G359.484-0.132b\n",
      "G359.484-0.132a\n",
      "G359.484-0.132c\n"
     ]
    }
   ],
   "source": [
    "for leaf in teamcat['leaf_ID']:\n",
    "    if leaf[:-1]=='G359.484-0.132': print(leaf)\n",
    "print('And now for the old catalog')\n",
    "for leaf in catalog_orig['leaf_ID']:\n",
    "    if leaf[:-1]=='G359.484-0.132': print(leaf)"
   ]
  },
  {
   "cell_type": "code",
   "execution_count": 32,
   "id": "ba18572b-6bd0-49e6-8d98-cde3b1275b78",
   "metadata": {},
   "outputs": [
    {
     "name": "stdout",
     "output_type": "stream",
     "text": [
      "G359.484-0.132d 0.0 359.44090506691543 -0.11091045368494844\n",
      "G359.484-0.132e 0.0 359.4525575776615 -0.10637879517174183\n",
      "G359.484-0.132b 0.0 359.4417093446322 -0.10321113186522315\n",
      "G359.484-0.132a 1.0 359.43623531519995 -0.10361979966523101\n",
      "G359.484-0.132c 0.0 359.43554772820676 -0.10220755708987922\n",
      "\n",
      "G359.615-0.243c 1.0 359.6239348989106 -0.24710558434732224\n",
      "G359.615-0.243a 1.0 359.61463456612955 -0.24323223654332535\n",
      "G359.615-0.243b 1.0 359.6179325795668 -0.24458589102278241\n"
     ]
    }
   ],
   "source": [
    "for i, leaf in enumerate(teamcat['leaf_ID']):\n",
    "    if leaf[:-1]=='G359.484-0.132': print(leaf, teamcat['SF_final_say'][i], teamcat['glon'][i]+360, teamcat['glat'][i])\n",
    "print()\n",
    "for i, leaf in enumerate(teamcat['leaf_ID']):\n",
    "    if leaf[:-1]=='G359.615-0.243': print(leaf, teamcat['SF_final_say'][i], teamcat['glon'][i]+360, teamcat['glat'][i])"
   ]
  },
  {
   "cell_type": "code",
   "execution_count": 33,
   "id": "dfe9a528-2af8-4af1-9f5c-5af675145f01",
   "metadata": {},
   "outputs": [],
   "source": [
    "#### MANUALLY FIXING LEAVES\n",
    "icond = (teamcat['leaf_ID']=='G359.484-0.132a')\n",
    "jcond = (teamcat['leaf_ID']=='G359.615-0.243a')\n",
    "teamcat['SF_final_say'][icond], teamcat['SF_final_say'][jcond] = teamcat['SF_final_say'][jcond], teamcat['SF_final_say'][icond]\n",
    "\n",
    "icond = (teamcat['leaf_ID']=='G359.484-0.132b')\n",
    "jcond = (teamcat['leaf_ID']=='G359.615-0.243b')\n",
    "teamcat['SF_final_say'][icond], teamcat['SF_final_say'][jcond] = teamcat['SF_final_say'][jcond], teamcat['SF_final_say'][icond]\n",
    "\n",
    "icond = (teamcat['leaf_ID']=='G359.484-0.132c')\n",
    "jcond = (teamcat['leaf_ID']=='G359.615-0.243c')\n",
    "teamcat['SF_final_say'][icond], teamcat['SF_final_say'][jcond] = teamcat['SF_final_say'][jcond], teamcat['SF_final_say'][icond]\n",
    "\n",
    "teamcat['SF_final_say'][teamcat['leaf_ID']=='G359.615-0.243b'] = 1\n"
   ]
  },
  {
   "cell_type": "code",
   "execution_count": 34,
   "id": "d77c2aef-4432-44b1-9db2-134a7f013db4",
   "metadata": {},
   "outputs": [
    {
     "name": "stdout",
     "output_type": "stream",
     "text": [
      "G359.484-0.132d 0.0 359.44090506691543 -0.11091045368494844\n",
      "G359.484-0.132e 0.0 359.4525575776615 -0.10637879517174183\n",
      "G359.484-0.132b 1.0 359.4417093446322 -0.10321113186522315\n",
      "G359.484-0.132a 1.0 359.43623531519995 -0.10361979966523101\n",
      "G359.484-0.132c 1.0 359.43554772820676 -0.10220755708987922\n",
      "\n",
      "G359.615-0.243c 0.0 359.6239348989106 -0.24710558434732224\n",
      "G359.615-0.243a 1.0 359.61463456612955 -0.24323223654332535\n",
      "G359.615-0.243b 1.0 359.6179325795668 -0.24458589102278241\n"
     ]
    }
   ],
   "source": [
    "for i, leaf in enumerate(teamcat['leaf_ID']):\n",
    "    if leaf[:-1]=='G359.484-0.132': print(leaf, teamcat['SF_final_say'][i], teamcat['glon'][i]+360, teamcat['glat'][i])\n",
    "print()\n",
    "for i, leaf in enumerate(teamcat['leaf_ID']):\n",
    "    if leaf[:-1]=='G359.615-0.243': print(leaf, teamcat['SF_final_say'][i], teamcat['glon'][i]+360, teamcat['glat'][i])"
   ]
  },
  {
   "cell_type": "code",
   "execution_count": 35,
   "id": "2faba8da",
   "metadata": {},
   "outputs": [],
   "source": [
    "### fix units\n",
    "\n",
    "#for key in teamcat.keys(): \n",
    "    #print(key, \" ~ \", teamcat[key].unit)\n",
    "teamcat['flux_integrated_bgsub'].unit = u.Jy\n",
    "#del teamcat['min_flux_integrated']\n",
    "teamcat['min_cont_flux'].unit = u.Jy / u.sr\n",
    "teamcat['noise'].unit = u.Jy / u.sr\n",
    "teamcat['DustTemperature'].unit = u.K\n",
    "teamcat['mass'].unit = u.solMass\n",
    "teamcat['r_eff_pc'].unit = u.pc\n"
   ]
  },
  {
   "cell_type": "code",
   "execution_count": null,
   "id": "c3c61a32-3aad-4a0f-b88d-8699e1b71ecb",
   "metadata": {},
   "outputs": [],
   "source": [
    "\n"
   ]
  },
  {
   "cell_type": "code",
   "execution_count": null,
   "id": "b47109b2-4cc3-4e4b-a6f3-48ac0e158288",
   "metadata": {},
   "outputs": [],
   "source": []
  },
  {
   "cell_type": "code",
   "execution_count": 36,
   "id": "0f82df5d",
   "metadata": {},
   "outputs": [],
   "source": [
    "teamcat.write(path_rgb + 'teamcat.fits', overwrite=True)\n",
    "teamcat.write(path + 'teamcat.fits', overwrite=True)"
   ]
  },
  {
   "cell_type": "code",
   "execution_count": 37,
   "id": "33390e05",
   "metadata": {},
   "outputs": [
    {
     "name": "stdout",
     "output_type": "stream",
     "text": [
      "index  ~  None\n",
      "area_ellipse  ~  arcsec2\n",
      "area_exact  ~  arcsec2\n",
      "flux_integrated  ~  Jy\n",
      "major_sigma  ~  arcsec\n",
      "minor_sigma  ~  arcsec\n",
      "position_angle  ~  deg\n",
      "radius  ~  arcsec\n",
      "glon  ~  deg\n",
      "glat  ~  deg\n",
      "r_eff  ~  arcsec\n",
      "flux_integrated_bgsub  ~  Jy\n",
      "min_flux_integrated  ~  None\n",
      "noise  ~  Jy / sr\n",
      "peak_cont_flux  ~  Jy / sr\n",
      "min_cont_flux  ~  Jy / sr\n",
      "mean_cont_flux  ~  Jy / sr\n",
      "npix  ~  None\n",
      "DustTemperature  ~  K\n",
      "herschel_column  ~  1 / cm2\n",
      "mass  ~  solMass\n",
      "sma_column  ~  1 / cm2\n",
      "r_eff_pc  ~  pc\n",
      "Sigma  ~  g / cm2\n",
      "n  ~  1 / cm3\n",
      "rho  ~  kg / m3\n",
      "tff  ~  yr\n",
      "glon_0  ~  deg\n",
      "mass_bgsub  ~  solMass\n",
      "suspicious  ~  None\n",
      "leaf_ID  ~  None\n",
      "mask_num  ~  None\n",
      "mass_unc  ~  solMass\n",
      "N_unc  ~  1 / cm2\n",
      "n_unc  ~  1 / cm3\n",
      "rho_unc  ~  kg / m3\n",
      "tff_unc  ~  s\n",
      "mass_bgsub_unc  ~  solMass\n",
      "atoll_final_say  ~  None\n",
      "SF_final_say  ~  None\n",
      "8um_point_hph  ~  None\n",
      "20-24um_point_hph  ~  None\n",
      "70um_point_hph  ~  None\n",
      "YSO_hph  ~  None\n",
      "Walsh+2014_h2o_maser_hph  ~  None\n",
      "Caswell+2012_methanol_maser_hph  ~  None\n",
      "Gutermuth+2015_24um_point_hph  ~  None\n",
      "Molinari+2016_70um_point_hph  ~  None\n",
      "SF_any_all_hph  ~  None\n",
      "SF_any_certain_hph  ~  None\n",
      "8um_point_brian  ~  None\n",
      "20-24um_point_brian  ~  None\n",
      "70um_point_brian  ~  None\n",
      "YSO_brian  ~  None\n",
      "Walsh+2014_h2o_maser_brian  ~  None\n",
      "Caswell+2012_methanol_maser_brian  ~  None\n",
      "Gutermuth+2015_24um_point_brian  ~  None\n",
      "Molinari+2016_70um_point_brian  ~  None\n",
      "SF_any_all_brian  ~  None\n",
      "SF_any_certain_brian  ~  None\n",
      "8um_point_dan  ~  None\n",
      "20-24um_point_dan  ~  None\n",
      "70um_point_dan  ~  None\n",
      "YSO_dan  ~  None\n",
      "Walsh+2014_h2o_maser_dan  ~  None\n",
      "Caswell+2012_methanol_maser_dan  ~  None\n",
      "Gutermuth+2015_24um_point_dan  ~  None\n",
      "Molinari+2016_70um_point_dan  ~  None\n",
      "SF_any_all_dan  ~  None\n",
      "SF_any_certain_dan  ~  None\n",
      "8um_point_natalie  ~  None\n",
      "20-24um_point_natalie  ~  None\n",
      "70um_point_natalie  ~  None\n",
      "YSO_natalie  ~  None\n",
      "Walsh+2014_h2o_maser_natalie  ~  None\n",
      "Caswell+2012_methanol_maser_natalie  ~  None\n",
      "Gutermuth+2015_24um_point_natalie  ~  None\n",
      "Molinari+2016_70um_point_natalie  ~  None\n",
      "SF_any_all_natalie  ~  None\n",
      "SF_any_certain_natalie  ~  None\n",
      "8um_point_steve  ~  None\n",
      "20-24um_point_steve  ~  None\n",
      "70um_point_steve  ~  None\n",
      "YSO_steve  ~  None\n",
      "Walsh+2014_h2o_maser_steve  ~  None\n",
      "Caswell+2012_methanol_maser_steve  ~  None\n",
      "Gutermuth+2015_24um_point_steve  ~  None\n",
      "Molinari+2016_70um_point_steve  ~  None\n",
      "SF_any_all_steve  ~  None\n",
      "SF_any_certain_steve  ~  None\n",
      "8um_point_walker  ~  None\n",
      "20-24um_point_walker  ~  None\n",
      "70um_point_walker  ~  None\n",
      "YSO_walker  ~  None\n",
      "Walsh+2014_h2o_maser_walker  ~  None\n",
      "Caswell+2012_methanol_maser_walker  ~  None\n",
      "Gutermuth+2015_24um_point_walker  ~  None\n",
      "Molinari+2016_70um_point_walker  ~  None\n",
      "SF_any_all_walker  ~  None\n",
      "SF_any_certain_walker  ~  None\n",
      "8um_point_cara  ~  None\n",
      "20-24um_point_cara  ~  None\n",
      "70um_point_cara  ~  None\n",
      "YSO_cara  ~  None\n",
      "Walsh+2014_h2o_maser_cara  ~  None\n",
      "Caswell+2012_methanol_maser_cara  ~  None\n",
      "Gutermuth+2015_24um_point_cara  ~  None\n",
      "Molinari+2016_70um_point_cara  ~  None\n",
      "SF_any_all_cara  ~  None\n",
      "SF_any_certain_cara  ~  None\n"
     ]
    }
   ],
   "source": [
    "for key in teamcat.keys(): \n",
    "    print(key, \" ~ \", teamcat[key].unit)"
   ]
  },
  {
   "cell_type": "code",
   "execution_count": null,
   "id": "108bf4ab",
   "metadata": {},
   "outputs": [],
   "source": []
  }
 ],
 "metadata": {
  "kernelspec": {
   "display_name": "Python 3 (ipykernel)",
   "language": "python",
   "name": "python3"
  },
  "language_info": {
   "codemirror_mode": {
    "name": "ipython",
    "version": 3
   },
   "file_extension": ".py",
   "mimetype": "text/x-python",
   "name": "python",
   "nbconvert_exporter": "python",
   "pygments_lexer": "ipython3",
   "version": "3.9.16"
  }
 },
 "nbformat": 4,
 "nbformat_minor": 5
}
