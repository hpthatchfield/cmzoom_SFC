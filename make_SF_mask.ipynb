{
 "cells": [
  {
   "cell_type": "code",
   "execution_count": 67,
   "id": "fc570230",
   "metadata": {},
   "outputs": [
    {
     "name": "stdout",
     "output_type": "stream",
     "text": [
      "1.20.2\n"
     ]
    }
   ],
   "source": [
    "import sys\n",
    "sys.path.append('/Users/hph/Dropbox/astrophys/juno/CMZoom_scripts/')\n",
    "import CMZoom_utility as cmz\n",
    "from astropy.io import fits\n",
    "import numpy as np\n",
    "import matplotlib.pyplot as plt\n",
    "from matplotlib import colors\n",
    "from astropy import units as u\n",
    "import astrodendro\n",
    "import os\n",
    "from astropy import wcs\n",
    "from astrodendro import Dendrogram, pp_catalog\n",
    "from astrodendro.analysis import PPStatistic\n",
    "from astropy.table import Table, hstack, Column\n",
    "from astropy.utils.console import ProgressBar\n",
    "import reproject\n",
    "print(np.__version__)\n",
    "import aplpy\n",
    "import csv\n",
    "import reproject\n",
    "import pandas as pd\n",
    "%config Completer.use_jedi = False"
   ]
  },
  {
   "cell_type": "code",
   "execution_count": 68,
   "id": "a6c96ee4",
   "metadata": {},
   "outputs": [
    {
     "name": "stderr",
     "output_type": "stream",
     "text": [
      "WARNING: the file contains information about Astropy native objects (mixin columns) that have been serialized when writing it, but the PyYAML package is required to read those. Without this package some information will be missing in the table [astropy.io.fits.connect]\n"
     ]
    }
   ],
   "source": [
    "#### load in catalog and previous mask\n",
    "path = '/Users/hph/Dropbox/astrophys/CMZoom/cmzoom_catalog/catalog_acc/'\n",
    "catalog = Table.read(path+'megacatalog_acc.fits')\n",
    "teamcat = Table.read(path+'megacatalog_team_acc_final_say.fits')\n",
    "oldmask = fits.open(path+'dendrogram_mask_pruned_rms3e6_k14_dv3_dd1_dp17_pp6_pm2_gal_10-23-19.fits')"
   ]
  },
  {
   "cell_type": "code",
   "execution_count": 69,
   "id": "8fb12dfc",
   "metadata": {},
   "outputs": [],
   "source": [
    "newheader = oldmask[0].header.copy()\n",
    "newdata = oldmask[0].data.copy()\n",
    "newheader['BUNIT']='index'"
   ]
  },
  {
   "cell_type": "code",
   "execution_count": 70,
   "id": "d20e5235",
   "metadata": {},
   "outputs": [],
   "source": [
    "### list of leaves to remove due to proximity to edge\n",
    "ex_index = np.array([374,1067,3258,4005,20803,21252,21336,22434,22648,22947,23297])\n",
    "### simultaneously remove sgrb2 and sgra*\n",
    "goodmask = (np.isin(teamcat['index'],ex_index)==False) & (teamcat['mask_num']!=27) #& (teamcat['mask_num']!=9)\n",
    "### define masking conditions for plotting\n",
    "SF_all_cond = np.where(goodmask)[0]\n",
    "SF_final_1cond = np.where((teamcat['SF_final_say']==1)&(goodmask))[0]\n",
    "SF_final_2cond = np.where((teamcat['SF_final_say']==2)&(goodmask))[0]\n",
    "SF_final_0cond = np.where((teamcat['SF_final_say']==0)&(goodmask))[0]\n",
    "SF_final_1or2cond = np.where(((teamcat['SF_final_say']==1)|(teamcat['SF_final_say']==2))&(goodmask))[0]"
   ]
  },
  {
   "cell_type": "code",
   "execution_count": 71,
   "id": "c3f3cfed",
   "metadata": {},
   "outputs": [
    {
     "name": "stdout",
     "output_type": "stream",
     "text": [
      "[121 123 127 129 140 146 152 160 161 164 165 166 171 174 175 177 178 179\n",
      " 180 181 182 184 188 189 190 191 193 194 195 196 197 200 202 206 207 208\n",
      " 209 210 211]\n"
     ]
    }
   ],
   "source": [
    "sgrb2mask = np.where((teamcat['mask_num']==9))[0]\n",
    "print(sgrb2mask)"
   ]
  },
  {
   "cell_type": "code",
   "execution_count": 72,
   "id": "c7eca229",
   "metadata": {},
   "outputs": [],
   "source": [
    "sf_ids = teamcat['index'][SF_final_1cond].data\n",
    "newdata[np.isin(newdata,sf_ids)==False]=-1\n",
    "\n"
   ]
  },
  {
   "cell_type": "code",
   "execution_count": 73,
   "id": "0b334408",
   "metadata": {},
   "outputs": [
    {
     "data": {
      "text/plain": [
       "(2800, 19000)"
      ]
     },
     "execution_count": 73,
     "metadata": {},
     "output_type": "execute_result"
    }
   ],
   "source": [
    "np.isin(newdata,sf_ids).shape"
   ]
  },
  {
   "cell_type": "code",
   "execution_count": 74,
   "id": "d6a4ead3",
   "metadata": {},
   "outputs": [
    {
     "data": {
      "text/plain": [
       "array([ True, False, False, False, False, False, False, False, False,\n",
       "       False, False, False, False, False, False, False, False, False,\n",
       "       False, False, False, False, False, False, False, False, False,\n",
       "       False, False, False, False, False, False, False, False, False,\n",
       "       False, False, False, False, False, False, False, False, False,\n",
       "       False, False, False, False, False, False, False, False, False,\n",
       "       False])"
      ]
     },
     "execution_count": 74,
     "metadata": {},
     "output_type": "execute_result"
    }
   ],
   "source": [
    "np.isin(sf_ids,[99])"
   ]
  },
  {
   "cell_type": "code",
   "execution_count": 75,
   "id": "b91c6952",
   "metadata": {},
   "outputs": [
    {
     "data": {
      "text/plain": [
       "<matplotlib.contour.QuadContourSet at 0x7fd8e081e610>"
      ]
     },
     "execution_count": 75,
     "metadata": {},
     "output_type": "execute_result"
    },
    {
     "data": {
      "image/png": "[encoded data removed]",
      "text/plain": [
       "<Figure size 432x288 with 2 Axes>"
      ]
     },
     "metadata": {
      "needs_background": "light"
     },
     "output_type": "display_data"
    }
   ],
   "source": [
    "fig, axes = plt.subplots(nrows=2,ncols=1)\n",
    "ax = axes[0]\n",
    "ax.contourf(oldmask[0].data,levels=[0,1,1e8])\n",
    "\n",
    "ax = axes[1]\n",
    "ax.contourf(newdata,levels=[0,1,1e8])"
   ]
  },
  {
   "cell_type": "code",
   "execution_count": 76,
   "id": "22c821c2",
   "metadata": {},
   "outputs": [],
   "source": [
    "### make the new mask fits file\n",
    "hdu = fits.PrimaryHDU(newdata)\n",
    "hdu.header = newheader\n",
    "hdul = fits.HDUList(hdu)\n",
    "hdul.writeto(path+'dendrogram_SF_mask_pruned_rms3e6_k14_dv3_dd1_dp17_pp6_pm2_gal_10-23-19.fits',overwrite=True)\n"
   ]
  },
  {
   "cell_type": "code",
   "execution_count": null,
   "id": "a3d8a305",
   "metadata": {},
   "outputs": [],
   "source": []
  },
  {
   "cell_type": "code",
   "execution_count": null,
   "id": "540a83fd",
   "metadata": {},
   "outputs": [],
   "source": []
  },
  {
   "cell_type": "code",
   "execution_count": null,
   "id": "aa45937f",
   "metadata": {},
   "outputs": [],
   "source": []
  }
 ],
 "metadata": {
  "kernelspec": {
   "display_name": "Python 3",
   "language": "python",
   "name": "python3"
  },
  "language_info": {
   "codemirror_mode": {
    "name": "ipython",
    "version": 3
   },
   "file_extension": ".py",
   "mimetype": "text/x-python",
   "name": "python",
   "nbconvert_exporter": "python",
   "pygments_lexer": "ipython3",
   "version": "3.9.5"
  }
 },
 "nbformat": 4,
 "nbformat_minor": 5
}
